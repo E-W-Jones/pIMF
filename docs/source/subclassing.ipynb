{
 "cells": [
  {
   "cell_type": "markdown",
   "id": "ab936f9a",
   "metadata": {},
   "source": [
    "# Subclassing\n",
    "This tutorial will take you through subclassing {py:class}`~pimf.initialmassfunction.InitialMassFunction` for your own user defined IMFs.\n",
    "\n",
    "_This tutorial notebook can be downloaded and ran on your own system._\n",
    "\n",
    "We will take you through the three functions you should define in a subclass, on top of the initialisation. This initialisation step can probably be abstracted in the future.\n",
    "\n",
    "Let's do this by implementing a [Salpeter (1995)](https://ui.adsabs.harvard.edu/abs/1955ApJ...121..161S/abstract) IMF (implemented in {py:class}`~pimf.initialmassfunction.PowerLawIMF`)\n",
    "\n",
    "This has the form $$\\xi(M) = \\xi_0 M^{-2.35}$$ where $\\xi(M)$ is the number of stars per mass bin. See [IMF basics](theory.md#basics) for more about different ways this could be defined.\n",
    "\n",
    "We will need the following [integrals](theory.md#integrals-and-observables):\n",
    "..."
   ]
  },
  {
   "cell_type": "markdown",
   "id": "0cdd91bc",
   "metadata": {},
   "source": [
    "## `__init__`"
   ]
  },
  {
   "cell_type": "markdown",
   "id": "71b782b3",
   "metadata": {},
   "source": [
    "## `__call__`"
   ]
  },
  {
   "cell_type": "markdown",
   "id": "cd047f6c",
   "metadata": {},
   "source": [
    "## `integrate`"
   ]
  },
  {
   "cell_type": "markdown",
   "id": "670b8602",
   "metadata": {},
   "source": [
    "## `integrate_product`"
   ]
  },
  {
   "cell_type": "markdown",
   "id": "26c396c6",
   "metadata": {},
   "source": []
  }
 ],
 "metadata": {
  "language_info": {
   "name": "python"
  }
 },
 "nbformat": 4,
 "nbformat_minor": 5
}
