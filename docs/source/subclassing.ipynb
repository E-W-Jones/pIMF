{
 "cells": [
  {
   "cell_type": "markdown",
   "id": "ab936f9a",
   "metadata": {},
   "source": [
    "# Subclassing\n",
    "This tutorial will take you through subclassing {py:class}`~pimf.initialmassfunction.InitialMassFunction` for your own user defined IMFs.\n",
    "\n",
    "_This tutorial notebook can be downloaded and ran on your own system._\n",
    "\n",
    "We will take you through the three functions you should define in a subclass, on top of the initialisation. This initialisation step can probably be abstracted in the future.\n",
    "\n",
    "Let's do this by implementing a [Salpeter (1995)](https://ui.adsabs.harvard.edu/abs/1955ApJ...121..161S/abstract) IMF (implemented in {py:class}`~pimf.initialmassfunction.PowerLawIMF`)\n",
    "\n",
    "This has the form $$\\xi(M) = \\xi_0 M^{-2.35}$$ where $\\xi(M)$ is the number of stars per mass bin. See [IMF basics](theory.md#basics) for more about different ways this could be defined.\n",
    "\n",
    "We will need the following [integrals](theory.md#integrals-and-observables):\n",
    "$$\\begin{align}\n",
    "\\int^{M_\\textrm{max}}_{M_\\textrm{min}}\\xi(M)\\mathrm{d}M \n",
    "    &= \\xi_0\\frac{M^{\\alpha+1}_\\textrm{max} - M^{\\alpha+1}_\\textrm{min}}{\\alpha + 1}\\\\\n",
    "\\int^{M_\\textrm{max}}_{M_\\textrm{min}}M\\xi(M)\\mathrm{d}M \n",
    "    &= \\xi_0\\frac{M^{\\alpha+2}_\\textrm{max} - M^{\\alpha+2}_\\textrm{min}}{\\alpha + 2}.\n",
    "\\end{align}$$\n",
    "These are the formulae for `integrate` and `integrate_product` methods respectively."
   ]
  },
  {
   "cell_type": "markdown",
   "id": "0cdd91bc",
   "metadata": {},
   "source": [
    "## `__init__`\n",
    "The `__init__` function is how we will pass any arguments specific to the IMF, as well as some general ones.\n",
    "\n",
    "The signature should be `__init__(self, <whatever arguments you want>, normalisation=\"number\", normalisation_value=1, Mmin=0.1, Mmax=100)`.\n",
    "\n",
    "In future, it would probably be ideal to change our code so that we don't repeat ourselves, but it isn't high priority at the moment.\n",
    "\n",
    ":::{warn}\n",
    "It isn't strictly necessary to include all of the boilerplate code and the arguments listed above, as you could hard code them. However, make sure you understand what you're doing if you try this.\n",
    ":::"
   ]
  },
  {
   "cell_type": "code",
   "execution_count": null,
   "id": "29b8ae72",
   "metadata": {},
   "outputs": [],
   "source": [
    "from pimf import InitialMassFunction  # Import the base class\n",
    "\n",
    "class SalpeterIMF(InitialMassFunction):  # Create a subclass\n",
    "    def __init__(self,\n",
    "                 alpha,  # The value of the slope.\n",
    "                 ### These are required by the library. ###\n",
    "                 normalisation=\"number\",\n",
    "                 normalisation_value=1,\n",
    "                 Mmin=0.1,\n",
    "                 Mmax=100\n",
    "                 ### These are required by the library. ###\n",
    "                 ):\n",
    "        self.α = alpha  # This is a variable we will use in the internals of the functions we'll define.\n",
    "\n",
    "        ### This is boilerplate code required by the class. ###\n",
    "        ### It would be easier to create subclasses if it was wrapped in a call to e.g. super.__init__.\n",
    "        self.ξ0 = 1\n",
    "        self.normalised = False\n",
    "        self.Mmin = Mmin\n",
    "        self.Mmax = Mmax\n",
    "\n",
    "        if normalisation == \"mass\":\n",
    "            self.normalise_by_mass(Mmin, Mmax, normalisation_value)\n",
    "        elif normalisation == \"number\":\n",
    "            self.normalise_by_number(Mmin, Mmax, normalisation_value)\n",
    "        elif isinstance(normalisation, (int, float)):\n",
    "            self.set_normalisation(normalisation)\n",
    "        ### This is boilerplate code required by the class. ###"
   ]
  },
  {
   "cell_type": "markdown",
   "id": "be3471a7",
   "metadata": {},
   "source": [
    "If we try to instantiate this it will raise an error. This is because by default we normalise by the number of stars, which requires integrating over the IMF. However, there is no `integrate` function. This is what we'll create next."
   ]
  },
  {
   "cell_type": "code",
   "execution_count": null,
   "id": "aaaa43f0",
   "metadata": {},
   "outputs": [],
   "source": [
    "# If you run this, you'll see it raises an error\n",
    "# imf = SalpeterIMF(-2.35)"
   ]
  },
  {
   "cell_type": "markdown",
   "id": "cd047f6c",
   "metadata": {},
   "source": [
    "## `integrate`\n",
    "`integrate` is one of the most useful functions as it is what tells you how many stars form. It is required if you want to normalise by number of stars.\n",
    "\n",
    "In the Salpeter IMF we're trying to create, the integral looks like $$\\int^{M_\\textrm{max}}_{M_\\textrm{min}}\\xi(M)\\mathrm{d}M = \\xi_0\\frac{M^{\\alpha+1}_\\textrm{max} - M^{\\alpha+1}_\\textrm{min}}{\\alpha + 1}.$$\n",
    "\n",
    "The function signature should be `integrate(self, Mmin, Mmax)`."
   ]
  },
  {
   "cell_type": "code",
   "execution_count": null,
   "id": "a02a44a8",
   "metadata": {},
   "outputs": [],
   "source": [
    "class SalpeterIMF(InitialMassFunction):\n",
    "    ### __init__ is unchanged from above. ###\n",
    "    def __init__(self, alpha, normalisation=\"number\", normalisation_value=1, Mmin=0.1, Mmax=100):\n",
    "        self.α = alpha  # This is a variable we will use in the internals of the functions we'll define.\n",
    "\n",
    "        self.ξ0 = 1\n",
    "        self.normalised = False\n",
    "        self.Mmin = Mmin\n",
    "        self.Mmax = Mmax\n",
    "\n",
    "        if normalisation == \"mass\":\n",
    "            self.normalise_by_mass(Mmin, Mmax, normalisation_value)\n",
    "        elif normalisation == \"number\":\n",
    "            self.normalise_by_number(Mmin, Mmax, normalisation_value)\n",
    "        elif isinstance(normalisation, (int, float)):\n",
    "            self.set_normalisation(normalisation)\n",
    "    ### __init__ is unchanged from above. ###\n",
    "\n",
    "    def integrate(self, Mmin, Mmax):\n",
    "        return ( self.ξ0  # This is defined in __init__, and set to the proper value by normalisation logic.\n",
    "               * (Mmax ** (self.α + 1) - Mmin ** (self.α + 1))\n",
    "               / (self.α + 1)\n",
    "               )"
   ]
  },
  {
   "cell_type": "markdown",
   "id": "ca078c95",
   "metadata": {},
   "source": [
    "Let's see if this now runs..."
   ]
  },
  {
   "cell_type": "code",
   "execution_count": 7,
   "id": "9433171f",
   "metadata": {},
   "outputs": [],
   "source": [
    "imf = SalpeterIMF(-2.35)"
   ]
  },
  {
   "cell_type": "markdown",
   "id": "37c0330a",
   "metadata": {},
   "source": [
    "Success!\n",
    "\n",
    "Now, you might be confused about how weare using `integrate` to set the value of $\\xi_0$, while we use $\\xi_0$ in `integrate`. This is because we set $\\xi0 = 1$ before doing the integral to work out our normalisation."
   ]
  },
  {
   "cell_type": "markdown",
   "id": "670b8602",
   "metadata": {},
   "source": [
    "## `integrate_product`\n",
    "`integrate_product` is another of the most useful functions, and it tells you how much mass in stars have formed. It is required if you want to normalise by mass.\n",
    "\n",
    "For a Salpeter IMF, the integral is $$\\int^{M_\\textrm{max}}_{M_\\textrm{min}}M\\xi(M)\\mathrm{d}M = \\xi_0\\frac{M^{\\alpha+2}_\\textrm{max} - M^{\\alpha+2}_\\textrm{min}}{\\alpha + 2}.$$\n",
    "\n",
    "The function signature should be `integrate_product(self, Mmin, Mmax)`."
   ]
  },
  {
   "cell_type": "code",
   "execution_count": null,
   "id": "77d93b60",
   "metadata": {},
   "outputs": [],
   "source": [
    "class SalpeterIMF(InitialMassFunction):\n",
    "    ### __init__ is unchanged from above. ###\n",
    "    def __init__(self, alpha, normalisation=\"number\", normalisation_value=1, Mmin=0.1, Mmax=100):\n",
    "        self.α = alpha  # This is a variable we will use in the internals of the functions we'll define.\n",
    "\n",
    "        self.ξ0 = 1\n",
    "        self.normalised = False\n",
    "        self.Mmin = Mmin\n",
    "        self.Mmax = Mmax\n",
    "\n",
    "        if normalisation == \"mass\":\n",
    "            self.normalise_by_mass(Mmin, Mmax, normalisation_value)\n",
    "        elif normalisation == \"number\":\n",
    "            self.normalise_by_number(Mmin, Mmax, normalisation_value)\n",
    "        elif isinstance(normalisation, (int, float)):\n",
    "            self.set_normalisation(normalisation)\n",
    "    ### __init__ is unchanged from above. ###\n",
    "\n",
    "    ### integrate is unchanged from above. ###\n",
    "    def integrate(self, Mmin, Mmax):\n",
    "        return self.ξ0 * (Mmax ** (self.α + 1) - Mmin ** (self.α + 1)) / (self.α + 1)\n",
    "    ### integrate is unchanged from above. ###\n",
    "\n",
    "    def integrate_product(self, Mmin, Mmax):\n",
    "        return self.ξ0 * (Mmax ** (self.α + 2) - Mmin ** (self.α + 2)) / (self.α + 2)"
   ]
  },
  {
   "cell_type": "markdown",
   "id": "71b782b3",
   "metadata": {},
   "source": [
    "## `__call__`\n",
    "You'll probably use `__call__` most frequently for plotting. It evaulates the IMF at a given mass.\n",
    "\n",
    "The signature should be `__call__(self, M)`, and the equation is simply $$\\xi(M) = \\xi_0 M^{\\alpha}.$$"
   ]
  },
  {
   "cell_type": "code",
   "execution_count": 10,
   "id": "4e6f459b",
   "metadata": {},
   "outputs": [],
   "source": [
    "class SalpeterIMF(InitialMassFunction):\n",
    "    ### __init__ is unchanged from above. ###\n",
    "    def __init__(self, alpha, normalisation=\"number\", normalisation_value=1, Mmin=0.1, Mmax=100):\n",
    "        self.α = alpha  # This is a variable we will use in the internals of the functions we'll define.\n",
    "\n",
    "        self.ξ0 = 1\n",
    "        self.normalised = False\n",
    "        self.Mmin = Mmin\n",
    "        self.Mmax = Mmax\n",
    "\n",
    "        if normalisation == \"mass\":\n",
    "            self.normalise_by_mass(Mmin, Mmax, normalisation_value)\n",
    "        elif normalisation == \"number\":\n",
    "            self.normalise_by_number(Mmin, Mmax, normalisation_value)\n",
    "        elif isinstance(normalisation, (int, float)):\n",
    "            self.set_normalisation(normalisation)\n",
    "    ### __init__ is unchanged from above. ###\n",
    "\n",
    "    ### integrate is unchanged from above. ###\n",
    "    def integrate(self, Mmin, Mmax):\n",
    "        return self.ξ0 * (Mmax ** (self.α + 1) - Mmin ** (self.α + 1)) / (self.α + 1)\n",
    "    ### integrate is unchanged from above. ###\n",
    "\n",
    "    ### integrate_product is unchanged from above. ###\n",
    "    def integrate_product(self, Mmin, Mmax):\n",
    "        return self.ξ0 * (Mmax ** (self.α + 2) - Mmin ** (self.α + 2)) / (self.α + 2)\n",
    "    ### integrate_product is unchanged from above. ###\n",
    "\n",
    "    def __call__(self, M):\n",
    "        return self.ξ0 * M ** self.α"
   ]
  },
  {
   "cell_type": "markdown",
   "id": "26c396c6",
   "metadata": {},
   "source": [
    "## `inverse_cdf`\n",
    "Only required for [stochastically sampling](./sampling.ipynb) the IMF. **If you don't want to do this, you can stop reading.**\n",
    "\n",
    "The CDF (cumilative distribution function) is the integral of the probability density function, which is our IMF (when normalised to 1). So, need to rearrange\n",
    "$$P(M) = \\frac{\\xi_0}{N}\\frac{M^{\\alpha+1} - M^{\\alpha+1}_\\textrm{min}}{\\alpha + 1}$$ where $$N = \\xi_0\\frac{M_\\textrm{max}^{\\alpha+1} - M^{\\alpha+1}_\\textrm{min}}{\\alpha + 1}.$$\n",
    "\n",
    "$$\n",
    "P^{-1}(x) = \\left[\\frac{N\\left(\\alpha + 1\\right)}{\\xi_0}x + M^{\\alpha+1}_\\textrm{min}\\right]^{1/(\\alpha+1)}\n",
    "$$"
   ]
  },
  {
   "cell_type": "code",
   "execution_count": null,
   "id": "aa6d7231",
   "metadata": {},
   "outputs": [],
   "source": [
    "class SalpeterIMF(InitialMassFunction):\n",
    "    ### __init__ is unchanged from above. ###\n",
    "    def __init__(self, alpha, normalisation=\"number\", normalisation_value=1, Mmin=0.1, Mmax=100):\n",
    "        self.α = alpha  # This is a variable we will use in the internals of the functions we'll define.\n",
    "\n",
    "        self.ξ0 = 1\n",
    "        self.normalised = False\n",
    "        self.Mmin = Mmin\n",
    "        self.Mmax = Mmax\n",
    "\n",
    "        if normalisation == \"mass\":\n",
    "            self.normalise_by_mass(Mmin, Mmax, normalisation_value)\n",
    "        elif normalisation == \"number\":\n",
    "            self.normalise_by_number(Mmin, Mmax, normalisation_value)\n",
    "        elif isinstance(normalisation, (int, float)):\n",
    "            self.set_normalisation(normalisation)\n",
    "    ### __init__ is unchanged from above. ###\n",
    "\n",
    "    ### integrate is unchanged from above. ###\n",
    "    def integrate(self, Mmin, Mmax):\n",
    "        return self.ξ0 * (Mmax ** (self.α + 1) - Mmin ** (self.α + 1)) / (self.α + 1)\n",
    "    ### integrate is unchanged from above. ###\n",
    "\n",
    "    ### integrate_product is unchanged from above. ###\n",
    "    def integrate_product(self, Mmin, Mmax):\n",
    "        return self.ξ0 * (Mmax ** (self.α + 2) - Mmin ** (self.α + 2)) / (self.α + 2)\n",
    "    ### integrate_product is unchanged from above. ###\n",
    "\n",
    "    ### __call__ is unchanged from above. ###\n",
    "    def __call__(self, M):\n",
    "        return self.ξ0 * M ** self.α\n",
    "    ### __call__ is unchanged from above. ###\n",
    "\n",
    "    def inverse_cdf(self, x):\n",
    "        n = self.α + 1\n",
    "        N = self.integrate(self.Mmin, self.Mmax)\n",
    "        return ( N * n / self.ξ0 * x + self.Mmin**n ) ** (1/n)"
   ]
  },
  {
   "cell_type": "markdown",
   "id": "5cf98ee9",
   "metadata": {},
   "source": [
    "Now we can test if all of these things work!"
   ]
  },
  {
   "cell_type": "code",
   "execution_count": null,
   "id": "b88fb006",
   "metadata": {},
   "outputs": [
    {
     "name": "stdout",
     "output_type": "stream",
     "text": [
      "There are 1000.0 stars.\n",
      "The total mass is 351.4 solar masses.\n"
     ]
    },
    {
     "data": {
      "image/png": "[encoded data removed]",
      "text/plain": [
       "<Figure size 640x480 with 1 Axes>"
      ]
     },
     "metadata": {},
     "output_type": "display_data"
    }
   ],
   "source": [
    "import numpy as np\n",
    "import matplotlib.pyplot as plt\n",
    "\n",
    "# Test __init__\n",
    "imf = SalpeterIMF(-2.35, normalisation_value=1000)\n",
    "\n",
    "# Test integrate\n",
    "print(f\"There are {imf.integrate(0.1, 100):.1f} stars.\")\n",
    "\n",
    "# Test integrate_product\n",
    "print(f\"The total mass is {imf.integrate_product(0.1, 100):.1f} solar masses.\")\n",
    "\n",
    "# Test __call__ (by plotting)\n",
    "M = np.geomspace(0.1, 100)\n",
    "imf = SalpeterIMF(-2.35)  # Default normalisation of corresponds to pdf. That w\n",
    "plt.loglog(M, imf(M))\n",
    "\n",
    "# Test inverse_cdf (by generating random masses)\n",
    "random_masses = imf.inverse_cdf(np.random.random(100_000))\n",
    "plt.hist(random_masses, density=True, bins=M)\n",
    "plt.show()"
   ]
  }
 ],
 "metadata": {
  "kernelspec": {
   "display_name": "pimf",
   "language": "python",
   "name": "python3"
  },
  "language_info": {
   "codemirror_mode": {
    "name": "ipython",
    "version": 3
   },
   "file_extension": ".py",
   "mimetype": "text/x-python",
   "name": "python",
   "nbconvert_exporter": "python",
   "pygments_lexer": "ipython3",
   "version": "3.13.5"
  }
 },
 "nbformat": 4,
 "nbformat_minor": 5
}
