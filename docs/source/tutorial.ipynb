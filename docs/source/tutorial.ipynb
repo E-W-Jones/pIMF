{
 "cells": [
  {
   "cell_type": "markdown",
   "id": "cfce3638",
   "metadata": {},
   "source": [
    "# Tutorial\n",
    "_This tutorial notebook can be downloaded and ran on your own system._"
   ]
  },
  {
   "cell_type": "code",
   "execution_count": null,
   "id": "f276fd19",
   "metadata": {},
   "outputs": [],
   "source": [
    "from pimf import PowerLawIMF\n",
    "\n",
    "import numpy as np\n",
    "import matplotlib.pyplot as plt"
   ]
  },
  {
   "cell_type": "markdown",
   "id": "1452bcde",
   "metadata": {},
   "source": [
    "Let's start by looking at the doctring:"
   ]
  },
  {
   "cell_type": "code",
   "execution_count": null,
   "id": "da73aebd",
   "metadata": {},
   "outputs": [],
   "source": [
    "help(PowerLawIMF)"
   ]
  },
  {
   "cell_type": "markdown",
   "id": "7530de70",
   "metadata": {},
   "source": [
    "It's hard to read the unformatted latex (so the [readthedocs](https://pimf.readthedocs.io/en/latest/apidocs/pimf/pimf.initialmassfunction.html#pimf.initialmassfunction.PowerLawIMF) might be better) but we can see that this class implements an IMF that looks like $$\\xi(m)dm = \\xi_0 m^\\alpha dm,$$ with a default value of $\\alpha=-2.35$, to match [Salpeter (1955)](https://ui.adsabs.harvard.edu/abs/1955ApJ...121..161S/abstract)."
   ]
  },
  {
   "cell_type": "markdown",
   "id": "294cd6aa",
   "metadata": {},
   "source": [
    "## Creating an IMF instance\n",
    "In some cases it's as simple as:"
   ]
  },
  {
   "cell_type": "code",
   "execution_count": null,
   "id": "212d1d90",
   "metadata": {},
   "outputs": [],
   "source": [
    "my_imf = PowerLawIMF()"
   ]
  },
  {
   "cell_type": "markdown",
   "id": "6a0557a2",
   "metadata": {},
   "source": [
    "because we have tried to choose sensible defaults. In other IMFs, there aren't necessarily sensible defaults. The parameters you are most likely to want to tweak are probably `normalisation` and `normalisation_value`, which we explain more [below](#normalisation)."
   ]
  },
  {
   "cell_type": "markdown",
   "id": "0dec6d54",
   "metadata": {},
   "source": [
    "## Generating Values\n",
    "All IMFs have a `__call__` method, so can be called like functions in python. This just evaluates $\\xi(M)$. You can pass floats or numpy arrays."
   ]
  },
  {
   "cell_type": "code",
   "execution_count": null,
   "id": "c46671fe",
   "metadata": {},
   "outputs": [],
   "source": [
    "print(my_imf(1))\n",
    "print(my_imf(10))"
   ]
  },
  {
   "cell_type": "code",
   "execution_count": null,
   "id": "d30f9407",
   "metadata": {},
   "outputs": [],
   "source": [
    "# Generate mass values\n",
    "M = np.geomspace(0.1, 100)\n",
    "print(my_imf(M))"
   ]
  },
  {
   "cell_type": "code",
   "execution_count": null,
   "id": "8008087c",
   "metadata": {},
   "outputs": [],
   "source": [
    "plt.loglog(M, my_imf(M))\n",
    "plt.xlabel(\"Mass ($M_\\\\odot$)\")\n",
    "plt.ylabel(\"Number of Stars (arbitrary units)\")\n",
    "plt.show()"
   ]
  },
  {
   "cell_type": "markdown",
   "id": "f29f76ec",
   "metadata": {},
   "source": [
    "## Integrating\n",
    "Let's say we wanted to calculate the number of black holes that form. A simple model might be that any stars below 25 solar masses don't form a black hole, while stars above this limit do. We could use something like the [trapezium rule](https://en.wikipedia.org/wiki/Trapezoidal_rule) or a [numerical integration routine](https://docs.scipy.org/doc/scipy/reference/generated/scipy.integrate.quad.html) with the `__call__` method. But! We can do better.\n",
    "\n",
    "For most IMFs it is easy enough to write down an analytic solution to the integral, and that is what we implement in the `integrate` method."
   ]
  },
  {
   "cell_type": "code",
   "execution_count": null,
   "id": "fa0664a2",
   "metadata": {},
   "outputs": [],
   "source": [
    "number_stars_below_25Msol = my_imf.integrate(0.1, 25)\n",
    "number_stars_above_25Msol = my_imf.integrate(25, 100)\n",
    "print(f\"There are {number_stars_below_25Msol} stars below 25 solar masses, and {number_stars_above_25Msol} above.\")"
   ]
  },
  {
   "cell_type": "markdown",
   "id": "190455c0",
   "metadata": {},
   "source": [
    "At this point, you _should_ be wondering what these values actually mean. After all, you never said how many stars there were in total, or the total stellar mass (which is more common). That is what we will cover in [normalisation](#normalisation)."
   ]
  },
  {
   "cell_type": "markdown",
   "id": "f199db8a",
   "metadata": {},
   "source": [
    "## Normalisation\n",
    "We provide a set of methods for normalising the IMF, but it's easiest to do it when you initialise the class using the `normalise` and `normalisation_value` arguments. When you print an imf, it will tell you how its been normalised.\n",
    "\n",
    "These fix the value of $\\xi_0$ by calculating the integral, or taking a value from the user.\n",
    "\n",
    "### normalise\n",
    "There are three options for `normalise`:\n",
    "1. \"mass\", a string, requires `normalisation_value`\n",
    "2. \"number\", a string, requires `normalisation_value`\n",
    "3. Any int or float\n",
    "\n",
    "#### \"mass\"\n",
    "When normalising by mass we rearrange $$\\int^{M_\\mathrm{max}}_{M_\\mathrm{min}}M\\xi(M)\\mathrm{d}M = \\texttt{normalisation_value}$$\n",
    "\n",
    "#### \"number\"\n",
    "When normalising by number we rearrange $$\\int^{M_\\mathrm{max}}_{M_\\mathrm{min}}\\xi(M)\\mathrm{d}M = \\texttt{normalisation_value}$$\n",
    "\n",
    "#### Any int or float\n",
    "If you pass a number as opposed to one of the strings, then it just uses this value for $\\xi_0$."
   ]
  },
  {
   "cell_type": "markdown",
   "id": "27c66a24",
   "metadata": {},
   "source": [
    "Let's say we want to create an IMF that represents 2000 stars, and ask how many black holes that forms."
   ]
  },
  {
   "cell_type": "code",
   "execution_count": null,
   "id": "e7cb096e",
   "metadata": {},
   "outputs": [],
   "source": [
    "two_thousand_stars = PowerLawIMF(normalisation=\"number\", normalisation_value=2000)\n",
    "number_stars_below_25Msol = two_thousand_stars.integrate(0.1, 25)\n",
    "number_stars_above_25Msol = two_thousand_stars.integrate(25, 100)\n",
    "print(f\"There are {number_stars_below_25Msol} stars below 25 solar masses, and {number_stars_above_25Msol} above.\")"
   ]
  },
  {
   "cell_type": "markdown",
   "id": "21c41a38",
   "metadata": {},
   "source": [
    "Or, we could ask how many sun-like stars are there in the milky way? Taking a milky way mass of [$\\sim6\\times10^{10}M_\\odot$](https://arxiv.org/abs/1407.1078)"
   ]
  },
  {
   "cell_type": "code",
   "execution_count": null,
   "id": "03601c0e",
   "metadata": {},
   "outputs": [],
   "source": [
    "milky_way = PowerLawIMF(normalisation=\"mass\", normalisation_value=6e10)\n",
    "print(f\"There are {milky_way(1):g} solar mass stars in the milky way, and {milky_way.integrate(0.9, 1.1):g} within 10% of that.\")\n",
    "### !!! Why is the first one higher?"
   ]
  },
  {
   "cell_type": "code",
   "execution_count": null,
   "id": "862fda33",
   "metadata": {},
   "outputs": [],
   "source": []
  },
  {
   "cell_type": "markdown",
   "id": "c38763f8",
   "metadata": {},
   "source": [
    "Winner of the longest method name goes to...\n",
    "## `integrate_linear_piecewise_interpolated_product`\n",
    "This is not something that everyone will have to use, but it's code I wrote so I might as well include it. Essentially what this does is solve annoying problems when you want to know the integral of an arbitrary function $$\\int^{M_\\textrm{max}}_{M_\\textrm{min}} f(M)\\xi(M)dM,$$ but $f(M)$ is only defined on a grid. For example, if someone had ran a bunch of stellar models to compute luminosity."
   ]
  },
  {
   "cell_type": "code",
   "execution_count": null,
   "id": "b4ba0d2c",
   "metadata": {},
   "outputs": [],
   "source": [
    "# We take some data from the GENEC grids: https://obswww.unige.ch/Research/evol/tables_grids2011/\n",
    "# Everything in solar units\n",
    "grid_masses = np.array([0.8, 0.9, 1.0, 1.1, 1.25, 1.35, 1.5, 1.7, 2.0, 2.5, 3.0, 4.0, 5.0, 7, 9, 12, 15, 20, 25, 32, 40, 60, 85, 120])\n",
    "grid_luminosities = 10**np.array([-0.58999, -0.35509, -0.13714, 0.06467, 0.29537, 0.459878, 0.673904, 0.913744, 1.208899, 1.596045, 1.898976, 2.365394, 2.712744, 3.220316, 3.584321, 3.977491, 4.266387, 4.614872, 4.86599, 5.125097, 5.343182, 5.703098, 5.980312, 6.231065])\n",
    "\n",
    "plt.loglog(grid_masses, grid_luminosities, \"o\")\n",
    "plt.xlabel(\"Mass / $M_\\\\odot$\")\n",
    "plt.ylabel(\"Luminosity / $L_\\\\odot$\")\n",
    "plt.show()"
   ]
  },
  {
   "cell_type": "markdown",
   "id": "784b1ebf",
   "metadata": {},
   "source": [
    "Above we have our grid of mass and luminosity. Let's use it to answer the question:\n",
    "\n",
    "_Do massive stars contribute more or less to luminosity than low mass stars?_\n",
    "\n",
    "We can see above that luminosity increases increases with mass, but we know that more massive stars are less common. Which effect wins?"
   ]
  },
  {
   "cell_type": "code",
   "execution_count": null,
   "id": "08fe8a52",
   "metadata": {},
   "outputs": [],
   "source": [
    "# This will return the total luminosity of stars between 0.8 and 8 solar masses, in solar luminosities\n",
    "low_mass_contribution = my_imf.integrate_linear_piecewise_interpolated_product(\n",
    "    0.8,               # Minimum mass for integration bounds\n",
    "    8,                 # Maximum mass for integration bounds\n",
    "    grid_masses,       # Masses we are interpolating\n",
    "    grid_luminosities  # Luminosities we are interpolating, the unit of these is our final unit\n",
    ")\n",
    "\n",
    "# This will return the total luminosity of stars between 8 and 100 solar masses, in solar luminosities.\n",
    "high_mass_contribution = my_imf.integrate_linear_piecewise_interpolated_product(\n",
    "    8,                 # Minimum mass for integration bounds\n",
    "    100,               # Maximum mass for integration bounds\n",
    "    grid_masses,       # Masses we are interpolating\n",
    "    grid_luminosities  # Luminosities we are interpolating, the unit of these is our final unit\n",
    ")\n",
    "\n",
    "print(f\"{100*low_mass_contribution / (low_mass_contribution + high_mass_contribution) : .2f}% of luminosity comes from low-mass stars\")\n",
    "print(f\"{100*high_mass_contribution / (low_mass_contribution + high_mass_contribution) :.2f}% of luminosity comes from high-mass stars\")"
   ]
  },
  {
   "cell_type": "markdown",
   "id": "0f760208",
   "metadata": {},
   "source": [
    "So massive stars hugely dominate!"
   ]
  },
  {
   "cell_type": "markdown",
   "id": "63a9efb9",
   "metadata": {},
   "source": []
  }
 ],
 "metadata": {
  "kernelspec": {
   "display_name": "pimf",
   "language": "python",
   "name": "python3"
  },
  "language_info": {
   "codemirror_mode": {
    "name": "ipython",
    "version": 3
   },
   "file_extension": ".py",
   "mimetype": "text/x-python",
   "name": "python",
   "nbconvert_exporter": "python",
   "pygments_lexer": "ipython3",
   "version": "3.13.5"
  }
 },
 "nbformat": 4,
 "nbformat_minor": 5
}
